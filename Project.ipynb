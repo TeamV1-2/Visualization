{
 "cells": [
  {
   "cell_type": "code",
   "execution_count": 1,
   "metadata": {},
   "outputs": [],
   "source": [
    "import numpy as np\n",
    "import pandas as pd"
   ]
  },
  {
   "cell_type": "code",
   "execution_count": 2,
   "metadata": {},
   "outputs": [],
   "source": [
    "athletes_df = pd.read_csv('athlete_events.csv')"
   ]
  },
  {
   "cell_type": "code",
   "execution_count": 4,
   "metadata": {},
   "outputs": [
    {
     "name": "stdout",
     "output_type": "stream",
     "text": [
      "Football Men's Football                                5733\n",
      "Ice Hockey Men's Ice Hockey                            4762\n",
      "Hockey Men's Hockey                                    3958\n",
      "Water Polo Men's Water Polo                            3358\n",
      "Basketball Men's Basketball                            3280\n",
      "                                                       ... \n",
      "Basque Pelota Men's Two-Man Teams With Cesta              2\n",
      "Archery Men's Target Archery, 50 metres, Individual       2\n",
      "Croquet Mixed Doubles                                     2\n",
      "Archery Men's Championnat Du Monde                        2\n",
      "Aeronautics Mixed Aeronautics                             1\n",
      "Name: Event, Length: 765, dtype: int64\n",
      "Germany           4\n",
      "Yemen             3\n",
      "Czech Republic    3\n",
      "Malaysia          3\n",
      "Serbia            3\n",
      "                 ..\n",
      "Mongolia          1\n",
      "Saudi Arabia      1\n",
      "Lithuania         1\n",
      "Philippines       1\n",
      "Qatar             1\n",
      "Name: region, Length: 206, dtype: int64\n"
     ]
    }
   ],
   "source": [
    "\n",
    "#count every event and region how much is it on data set \n",
    "count_discipline = athletes_df.Event.value_counts()\n",
    "print(count_discipline)\n",
    "data = pd.read_csv('noc_regions.csv')\n",
    "count_discipline2 = data.region.value_counts()\n",
    "print(count_discipline2)"
   ]
  },
  {
   "cell_type": "code",
   "execution_count": 5,
   "metadata": {},
   "outputs": [
    {
     "data": {
      "text/plain": [
       "ID         0.000000\n",
       "Name       0.000000\n",
       "Sex        0.000000\n",
       "Age        3.494445\n",
       "Height    22.193821\n",
       "Weight    23.191180\n",
       "Team       0.000000\n",
       "NOC        0.000000\n",
       "Games      0.000000\n",
       "Year       0.000000\n",
       "Season     0.000000\n",
       "City       0.000000\n",
       "Sport      0.000000\n",
       "Event      0.000000\n",
       "Medal     85.326207\n",
       "dtype: float64"
      ]
     },
     "execution_count": 5,
     "metadata": {},
     "output_type": "execute_result"
    }
   ],
   "source": [
    "missing_values = athletes_df.isna().sum()/len(athletes_df)*100\n",
    "missing_values"
   ]
  }
 ],
 "metadata": {
  "interpreter": {
   "hash": "fe7f9b06eee250c3ee1af719371adefc8a2e0440b1ed09bc93aaa886ab10887e"
  },
  "kernelspec": {
   "display_name": "Python 3.8.5 64-bit ('base': conda)",
   "language": "python",
   "name": "python3"
  },
  "language_info": {
   "codemirror_mode": {
    "name": "ipython",
    "version": 3
   },
   "file_extension": ".py",
   "mimetype": "text/x-python",
   "name": "python",
   "nbconvert_exporter": "python",
   "pygments_lexer": "ipython3",
   "version": "3.8.5"
  },
  "orig_nbformat": 4
 },
 "nbformat": 4,
 "nbformat_minor": 2
}
